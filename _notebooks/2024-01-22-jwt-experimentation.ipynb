{
  "nbformat": 4,
  "nbformat_minor": 0,
  "metadata": {
    "colab": {
      "provenance": []
    },
    "kernelspec": {
      "name": "python3",
      "display_name": "Python 3"
    },
    "language_info": {
      "name": "python"
    }
  },
  "cells": [
    {
      "cell_type": "markdown",
      "source": [
        "title: JWT Experimentation\n",
        "description: by Raunak Mondal\n",
        "week: 19\n",
        "categories: [Java, Tri 2]\n",
        "type: plans\n",
        "tags: [Notebook, Java, Collections, Lesson]\n",
        "\n"
      ],
      "metadata": {
        "id": "8rlZ_wh8EV74"
      }
    },
    {
      "cell_type": "markdown",
      "source": [
        "Basic example of what I wanted to implement in our project (some of this comes from the Student JWT Lessons)"
      ],
      "metadata": {
        "id": "aWi9dep-Durp"
      }
    },
    {
      "cell_type": "code",
      "execution_count": 2,
      "metadata": {
        "colab": {
          "base_uri": "https://localhost:8080/"
        },
        "id": "3uyJwhGjQ_8H",
        "outputId": "4f52e41a-6adb-433a-a22f-efd0a48247d2"
      },
      "outputs": [
        {
          "output_type": "stream",
          "name": "stdout",
          "text": [
            "Decoded Token Data: {username=raunakmondal07, iat=1672464000, exp=1672550400}\n"
          ]
        }
      ],
      "source": [
        "import io.jsonwebtoken.Claims;\n",
        "import io.jsonwebtoken.ExpiredJwtException;\n",
        "import io.jsonwebtoken.Jws;\n",
        "import io.jsonwebtoken.Jwts;\n",
        "import io.jsonwebtoken.SignatureAlgorithm;\n",
        "\n",
        "import java.util.Date;\n",
        "import java.util.HashMap;\n",
        "import java.util.Map;\n",
        "\n",
        "public class JwtExample {\n",
        "\n",
        "\n",
        "    private static final String SECRET_KEY = \"raunakmondal1579\";\n",
        "\n",
        "    // Function to generate a JWT token\n",
        "    public static String generateToken(String username) {\n",
        "        Map<String, Object> claims = new HashMap<>();\n",
        "        claims.put(\"username\", username);\n",
        "\n",
        "        return Jwts.builder()\n",
        "                .setClaims(claims)\n",
        "                .setIssuedAt(new Date())\n",
        "                .setExpiration(new Date(System.currentTimeMillis() + 86400000))  // Token expires in 24 hours\n",
        "                .signWith(SignatureAlgorithm.HS256, SECRET_KEY)\n",
        "                .compact();\n",
        "    }\n",
        "\n",
        "    // Function to verify and decode a JWT token\n",
        "    public static void decodeToken(String token) {\n",
        "        try {\n",
        "            Jws<Claims> claimsJws = Jwts.parser().setSigningKey(SECRET_KEY).parseClaimsJws(token);\n",
        "            Claims body = claimsJws.getBody();\n",
        "            System.out.println(\"Decoded Token Data: \" + body);\n",
        "        } catch (ExpiredJwtException e) {\n",
        "            System.out.println(\"Token has expired.\");\n",
        "        } catch (Exception e) {\n",
        "            System.out.println(\"Invalid token.\");\n",
        "        }\n",
        "    }\n",
        "\n",
        "    public static void main(String[] args) {\n",
        "        // Example usage\n",
        "        String username = \"raunakmondal07\";\n",
        "        String password = \"rik-csa\";\n",
        "\n",
        "        // Perform login to get JWT token\n",
        "        String jwtToken = generateToken(username);\n",
        "\n",
        "        // Example: Decode and print the contents of the JWT token\n",
        "        decodeToken(jwtToken);\n",
        "    }\n",
        "}\n"
      ]
    },
    {
      "cell_type": "markdown",
      "source": [
        "This would be a way to implement JWT in our project:"
      ],
      "metadata": {
        "id": "9S-CbngZF12-"
      }
    },
    {
      "cell_type": "code",
      "source": [
        "@PostMapping(\"/submitJobApplication\")\n",
        "public ResponseEntity<String> submitJobApplication(@RequestHeader(\"Authorization\") String token, @RequestBody JobApplication jobApplication) {\n",
        "    try {\n",
        "        // Verify JWT token\n",
        "        JwtExample.decodeToken(token);\n",
        "\n",
        "        // Additional steps for job application processing\n",
        "        validateJobApplication(jobApplication); // Validate job application details\n",
        "\n",
        "        // Update applicant's profile (hypothetical method)\n",
        "        updateApplicantProfile(jobApplication.getApplicantUsername(), jobApplication);\n",
        "\n",
        "        // Notify HR department about the new job application (hypothetical method)\n",
        "        notifyHRDepartment(jobApplication);\n",
        "\n",
        "        // Return success response\n",
        "        return ResponseEntity.ok(\"Job application submitted successfully\");\n",
        "    } catch (ExpiredJwtException e) {\n",
        "        // Handle token expiration\n",
        "        return ResponseEntity.status(HttpStatus.UNAUTHORIZED).body(\"Token has expired\");\n",
        "    } catch (Exception e) {\n",
        "        // Handle other exceptions\n",
        "        return ResponseEntity.status(HttpStatus.BAD_REQUEST).body(\"Invalid token or job application details\");\n",
        "    }\n",
        "}\n",
        "\n",
        "// Hypothetical method to validate job application details\n",
        "private void validateJobApplication(JobApplication jobApplication) {\n",
        "\n",
        "    // For example, check if required fields are filled, if the resume is attached, etc.\n",
        "    if (jobApplication.getResume() == null || jobApplication.getResume().isEmpty()) {\n",
        "        throw new IllegalArgumentException(\"Resume is required for job application\");\n",
        "    }\n",
        "}\n",
        "\n",
        "// Hypothetical method to update applicant's profile\n",
        "private void updateApplicantProfile(String username, JobApplication jobApplication) {\n",
        "\n",
        "    // For example, update the status of the application, store additional information, etc.\n",
        "    // Simulating a database update here (replace with actual database operations)\n",
        "    System.out.println(\"Updating profile for applicant: \" + username);\n",
        "    System.out.println(\"Application details: \" + jobApplication);\n",
        "}\n",
        "\n",
        "// Hypothetical method to notify HR department about the new job application\n",
        "private void notifyHRDepartment(JobApplication jobApplication) {\n",
        "\n",
        "    // For example, you could use messaging services, email, etc.\n",
        "    System.out.println(\"Notifying HR department about new job application:\");\n",
        "    System.out.println(\"Job Application Details: \" + jobApplication);\n",
        "    // Simulating an email notification (replace with actual notification mechanism)\n",
        "    sendEmailToHR(jobApplication);\n",
        "}\n",
        "\n",
        "// Hypothetical method to send email notification to HR\n",
        "private void sendEmailToHR(JobApplication jobApplication) {\n",
        "\n",
        "    System.out.println(\"Sending email to HR: New job application received\");\n",
        "    System.out.println(\"Job Application Details: \" + jobApplication);\n",
        "    // Simulating email sending process (replace with actual email sending)\n",
        "}\n"
      ],
      "metadata": {
        "id": "HEpwe-PaF876"
      },
      "execution_count": null,
      "outputs": []
    }
  ]
}
